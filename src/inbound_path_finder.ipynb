{
 "cells": [
  {
   "cell_type": "markdown",
   "id": "2929cc5a",
   "metadata": {},
   "source": [
    "### Property, subject, property, subject Search\n",
    "We start with the target entity"
   ]
  },
  {
   "cell_type": "code",
   "execution_count": 5,
   "id": "4993d32e",
   "metadata": {},
   "outputs": [],
   "source": [
    "from rdflib import Graph, RDF, RDFS, OWL, Namespace\n",
    "\n",
    "SPHN = Namespace(\"https://biomedit.ch/rdf/sphn-ontology/sphn#\")\n",
    "\n",
    "\n",
    "main_entity = SPHN.Measurement\n",
    "\n",
    "# Entity we have to link\n",
    "target_entity = [SPHN.Unit]"
   ]
  },
  {
   "cell_type": "markdown",
   "id": "d4b56a57",
   "metadata": {},
   "source": [
    "#### Creating Ontology "
   ]
  },
  {
   "cell_type": "code",
   "execution_count": 7,
   "id": "a43a93e4",
   "metadata": {},
   "outputs": [
    {
     "data": {
      "text/plain": [
       "<Graph identifier=N86049447624d47fb9c887db68b5c412c (<class 'rdflib.graph.Graph'>)>"
      ]
     },
     "execution_count": 7,
     "metadata": {},
     "output_type": "execute_result"
    }
   ],
   "source": [
    "# Create a graph\n",
    "g = Graph()\n",
    "\n",
    "# Load your ontology (replace 'your_file.ttl' with your actual file path)\n",
    "g.parse(\"aidava-sphn.ttl\", format=\"turtle\")"
   ]
  },
  {
   "cell_type": "markdown",
   "id": "6e2a4309",
   "metadata": {
    "vscode": {
     "languageId": "plaintext"
    }
   },
   "source": [
    "#### Inbound Loop"
   ]
  },
  {
   "cell_type": "code",
   "execution_count": null,
   "id": "34e27811",
   "metadata": {},
   "outputs": [
    {
     "name": "stdout",
     "output_type": "stream",
     "text": [
      "Let's look for properties that poitn to  {rdflib.term.URIRef('https://biomedit.ch/rdf/sphn-ontology/sphn#Unit'): ''}\n",
      "https://biomedit.ch/rdf/sphn-ontology/sphn#hasUnit http://www.w3.org/2000/01/rdf-schema#range https://biomedit.ch/rdf/sphn-ontology/sphn#Unit\n",
      "Property: https://biomedit.ch/rdf/sphn-ontology/sphn#hasUnit has domain: https://biomedit.ch/rdf/sphn-ontology/sphn#Quantity\n",
      "Let's look for properties that poitn to  {rdflib.term.URIRef('https://biomedit.ch/rdf/sphn-ontology/sphn#Quantity'): rdflib.term.URIRef('https://biomedit.ch/rdf/sphn-ontology/sphn#hasUnit')}\n",
      "https://biomedit.ch/rdf/sphn-ontology/sphn#hasDiastolicPressure http://www.w3.org/2000/01/rdf-schema#range https://biomedit.ch/rdf/sphn-ontology/sphn#Quantity\n",
      "https://biomedit.ch/rdf/sphn-ontology/sphn#hasDrugQuantity http://www.w3.org/2000/01/rdf-schema#range https://biomedit.ch/rdf/sphn-ontology/sphn#Quantity\n",
      "https://biomedit.ch/rdf/sphn-ontology/sphn#hasDuration http://www.w3.org/2000/01/rdf-schema#range https://biomedit.ch/rdf/sphn-ontology/sphn#Quantity\n",
      "https://biomedit.ch/rdf/sphn-ontology/sphn#hasExposureDuration http://www.w3.org/2000/01/rdf-schema#range https://biomedit.ch/rdf/sphn-ontology/sphn#Quantity\n",
      "https://biomedit.ch/rdf/sphn-ontology/sphn#hasFractionsNumber http://www.w3.org/2000/01/rdf-schema#range https://biomedit.ch/rdf/sphn-ontology/sphn#Quantity\n",
      "https://biomedit.ch/rdf/sphn-ontology/sphn#hasFrequency http://www.w3.org/2000/01/rdf-schema#range https://biomedit.ch/rdf/sphn-ontology/sphn#Quantity\n",
      "https://biomedit.ch/rdf/sphn-ontology/sphn#hasLowerLimit http://www.w3.org/2000/01/rdf-schema#range https://biomedit.ch/rdf/sphn-ontology/sphn#Quantity\n",
      "https://biomedit.ch/rdf/sphn-ontology/sphn#hasManifestationDuration http://www.w3.org/2000/01/rdf-schema#range https://biomedit.ch/rdf/sphn-ontology/sphn#Quantity\n",
      "https://biomedit.ch/rdf/sphn-ontology/sphn#hasMeanPressure http://www.w3.org/2000/01/rdf-schema#range https://biomedit.ch/rdf/sphn-ontology/sphn#Quantity\n",
      "https://biomedit.ch/rdf/sphn-ontology/sphn#hasNumberOfLeads http://www.w3.org/2000/01/rdf-schema#range https://biomedit.ch/rdf/sphn-ontology/sphn#Quantity\n",
      "https://biomedit.ch/rdf/sphn-ontology/sphn#hasQuantitativeResult http://www.w3.org/2000/01/rdf-schema#range https://biomedit.ch/rdf/sphn-ontology/sphn#Quantity\n",
      "https://biomedit.ch/rdf/sphn-ontology/sphn#hasQuantity http://www.w3.org/2000/01/rdf-schema#range https://biomedit.ch/rdf/sphn-ontology/sphn#Quantity\n",
      "https://biomedit.ch/rdf/sphn-ontology/sphn#hasRadiationQuantity http://www.w3.org/2000/01/rdf-schema#range https://biomedit.ch/rdf/sphn-ontology/sphn#Quantity\n",
      "https://biomedit.ch/rdf/sphn-ontology/sphn#hasSystolicPressure http://www.w3.org/2000/01/rdf-schema#range https://biomedit.ch/rdf/sphn-ontology/sphn#Quantity\n",
      "https://biomedit.ch/rdf/sphn-ontology/sphn#hasTumorPurity http://www.w3.org/2000/01/rdf-schema#range https://biomedit.ch/rdf/sphn-ontology/sphn#Quantity\n",
      "https://biomedit.ch/rdf/sphn-ontology/sphn#hasUpperLimit http://www.w3.org/2000/01/rdf-schema#range https://biomedit.ch/rdf/sphn-ontology/sphn#Quantity\n",
      "Property: https://biomedit.ch/rdf/sphn-ontology/sphn#hasExposureDuration has domain: https://biomedit.ch/rdf/sphn-ontology/sphn#AllergyEpisode\n",
      "Property: https://biomedit.ch/rdf/sphn-ontology/sphn#hasManifestationDuration has domain: https://biomedit.ch/rdf/sphn-ontology/sphn#AllergyEpisode\n",
      "Property: https://biomedit.ch/rdf/sphn-ontology/sphn#hasDiastolicPressure has domain: https://biomedit.ch/rdf/sphn-ontology/sphn#BloodPressure\n",
      "Property: https://biomedit.ch/rdf/sphn-ontology/sphn#hasMeanPressure has domain: https://biomedit.ch/rdf/sphn-ontology/sphn#BloodPressure\n",
      "Property: https://biomedit.ch/rdf/sphn-ontology/sphn#hasSystolicPressure has domain: https://biomedit.ch/rdf/sphn-ontology/sphn#BloodPressure\n",
      "Property: https://biomedit.ch/rdf/sphn-ontology/sphn#hasDrug has domain: nc84fde7d69b142f594bdd1d7f64858eeb293\n",
      "Property: https://biomedit.ch/rdf/sphn-ontology/sphn#hasDrugQuantity has domain: nc84fde7d69b142f594bdd1d7f64858eeb296\n",
      "Property: https://biomedit.ch/rdf/sphn-ontology/sphn#hasDuration has domain: nc84fde7d69b142f594bdd1d7f64858eeb299\n",
      "Property: https://biomedit.ch/rdf/sphn-ontology/sphn#hasFractionsNumber has domain: https://biomedit.ch/rdf/sphn-ontology/sphn#RadiotherapyProcedure\n",
      "Property: https://biomedit.ch/rdf/sphn-ontology/sphn#hasFrequency has domain: https://biomedit.ch/rdf/sphn-ontology/sphn#DrugPrescription\n",
      "Property: https://biomedit.ch/rdf/sphn-ontology/sphn#hasLowerLimit has domain: https://biomedit.ch/rdf/sphn-ontology/sphn#ReferenceRange\n",
      "Property: https://biomedit.ch/rdf/sphn-ontology/sphn#hasUpperLimit has domain: https://biomedit.ch/rdf/sphn-ontology/sphn#ReferenceRange\n",
      "Property: https://biomedit.ch/rdf/sphn-ontology/sphn#hasNumberOfLeads has domain: https://biomedit.ch/rdf/sphn-ontology/sphn#ElectrocardiographicProcedure\n",
      "Property: https://biomedit.ch/rdf/sphn-ontology/sphn#hasQuantitativeResult has domain: https://biomedit.ch/rdf/sphn-ontology/sphn#LabResult\n",
      "Property: https://biomedit.ch/rdf/sphn-ontology/sphn#hasQuantity has domain: nc84fde7d69b142f594bdd1d7f64858eeb393\n",
      "Property: https://biomedit.ch/rdf/sphn-ontology/sphn#hasRadiationQuantity has domain: nc84fde7d69b142f594bdd1d7f64858eeb420\n",
      "Property: https://biomedit.ch/rdf/sphn-ontology/sphn#hasTumorPurity has domain: https://biomedit.ch/rdf/sphn-ontology/sphn#TumorSpecimen\n",
      "Let's look for properties that poitn to  {rdflib.term.URIRef('https://biomedit.ch/rdf/sphn-ontology/sphn#AllergyEpisode'): rdflib.term.URIRef('https://biomedit.ch/rdf/sphn-ontology/sphn#hasManifestationDuration'), rdflib.term.URIRef('https://biomedit.ch/rdf/sphn-ontology/sphn#BloodPressure'): rdflib.term.URIRef('https://biomedit.ch/rdf/sphn-ontology/sphn#hasSystolicPressure'), rdflib.term.BNode('nc84fde7d69b142f594bdd1d7f64858eeb293'): rdflib.term.URIRef('https://biomedit.ch/rdf/sphn-ontology/sphn#hasDrug'), rdflib.term.BNode('nc84fde7d69b142f594bdd1d7f64858eeb296'): rdflib.term.URIRef('https://biomedit.ch/rdf/sphn-ontology/sphn#hasDrugQuantity'), rdflib.term.BNode('nc84fde7d69b142f594bdd1d7f64858eeb299'): rdflib.term.URIRef('https://biomedit.ch/rdf/sphn-ontology/sphn#hasDuration'), rdflib.term.URIRef('https://biomedit.ch/rdf/sphn-ontology/sphn#RadiotherapyProcedure'): rdflib.term.URIRef('https://biomedit.ch/rdf/sphn-ontology/sphn#hasFractionsNumber'), rdflib.term.URIRef('https://biomedit.ch/rdf/sphn-ontology/sphn#DrugPrescription'): rdflib.term.URIRef('https://biomedit.ch/rdf/sphn-ontology/sphn#hasFrequency'), rdflib.term.URIRef('https://biomedit.ch/rdf/sphn-ontology/sphn#ReferenceRange'): rdflib.term.URIRef('https://biomedit.ch/rdf/sphn-ontology/sphn#hasUpperLimit'), rdflib.term.URIRef('https://biomedit.ch/rdf/sphn-ontology/sphn#ElectrocardiographicProcedure'): rdflib.term.URIRef('https://biomedit.ch/rdf/sphn-ontology/sphn#hasNumberOfLeads'), rdflib.term.URIRef('https://biomedit.ch/rdf/sphn-ontology/sphn#LabResult'): rdflib.term.URIRef('https://biomedit.ch/rdf/sphn-ontology/sphn#hasQuantitativeResult'), rdflib.term.BNode('nc84fde7d69b142f594bdd1d7f64858eeb393'): rdflib.term.URIRef('https://biomedit.ch/rdf/sphn-ontology/sphn#hasQuantity'), rdflib.term.BNode('nc84fde7d69b142f594bdd1d7f64858eeb420'): rdflib.term.URIRef('https://biomedit.ch/rdf/sphn-ontology/sphn#hasRadiationQuantity'), rdflib.term.URIRef('https://biomedit.ch/rdf/sphn-ontology/sphn#TumorSpecimen'): rdflib.term.URIRef('https://biomedit.ch/rdf/sphn-ontology/sphn#hasTumorPurity')}\n",
      "https://biomedit.ch/rdf/sphn-ontology/AIDAVA/hasDrugPrescription http://www.w3.org/2000/01/rdf-schema#range https://biomedit.ch/rdf/sphn-ontology/sphn#DrugPrescription\n",
      "https://biomedit.ch/rdf/sphn-ontology/sphn#hasReferenceRange http://www.w3.org/2000/01/rdf-schema#range https://biomedit.ch/rdf/sphn-ontology/sphn#ReferenceRange\n",
      "Property: https://biomedit.ch/rdf/sphn-ontology/AIDAVA/hasDrugPrescription has domain: https://biomedit.ch/rdf/sphn-ontology/AIDAVA/Patient\n",
      "Property: https://biomedit.ch/rdf/sphn-ontology/sphn#hasReference has domain: https://biomedit.ch/rdf/sphn-ontology/sphn#GenomicPosition\n",
      "Property: https://biomedit.ch/rdf/sphn-ontology/sphn#hasReferenceRange has domain: nc84fde7d69b142f594bdd1d7f64858eeb432\n",
      "Let's look for properties that poitn to  {rdflib.term.URIRef('https://biomedit.ch/rdf/sphn-ontology/AIDAVA/Patient'): rdflib.term.URIRef('https://biomedit.ch/rdf/sphn-ontology/AIDAVA/hasDrugPrescription'), rdflib.term.URIRef('https://biomedit.ch/rdf/sphn-ontology/sphn#GenomicPosition'): rdflib.term.URIRef('https://biomedit.ch/rdf/sphn-ontology/sphn#hasReference'), rdflib.term.BNode('nc84fde7d69b142f594bdd1d7f64858eeb432'): rdflib.term.URIRef('https://biomedit.ch/rdf/sphn-ontology/sphn#hasReferenceRange')}\n",
      "https://biomedit.ch/rdf/sphn-ontology/AIDAVA/hasPatient http://www.w3.org/2000/01/rdf-schema#range https://biomedit.ch/rdf/sphn-ontology/AIDAVA/Patient\n",
      "https://biomedit.ch/rdf/sphn-ontology/sphn#hasGenomicPosition http://www.w3.org/2000/01/rdf-schema#range https://biomedit.ch/rdf/sphn-ontology/sphn#GenomicPosition\n",
      "Property: https://biomedit.ch/rdf/sphn-ontology/AIDAVA/hasPatient has domain: nc84fde7d69b142f594bdd1d7f64858eeb1\n",
      "Property: https://biomedit.ch/rdf/sphn-ontology/sphn#hasGenomicPosition has domain: nc84fde7d69b142f594bdd1d7f64858eeb314\n",
      "Let's look for properties that poitn to  {rdflib.term.BNode('nc84fde7d69b142f594bdd1d7f64858eeb1'): rdflib.term.URIRef('https://biomedit.ch/rdf/sphn-ontology/AIDAVA/hasPatient'), rdflib.term.BNode('nc84fde7d69b142f594bdd1d7f64858eeb314'): rdflib.term.URIRef('https://biomedit.ch/rdf/sphn-ontology/sphn#hasGenomicPosition')}\n",
      "https://biomedit.ch/rdf/sphn-ontology/sphn#hasManifestationDuration\n",
      "https://biomedit.ch/rdf/sphn-ontology/sphn#hasSystolicPressure\n",
      "https://biomedit.ch/rdf/sphn-ontology/sphn#hasDrug\n",
      "https://biomedit.ch/rdf/sphn-ontology/sphn#hasDrugQuantity\n",
      "https://biomedit.ch/rdf/sphn-ontology/sphn#hasDuration\n",
      "https://biomedit.ch/rdf/sphn-ontology/sphn#hasFractionsNumber\n",
      "https://biomedit.ch/rdf/sphn-ontology/sphn#hasNumberOfLeads\n",
      "https://biomedit.ch/rdf/sphn-ontology/sphn#hasQuantitativeResult\n",
      "https://biomedit.ch/rdf/sphn-ontology/sphn#hasQuantity\n",
      "https://biomedit.ch/rdf/sphn-ontology/sphn#hasRadiationQuantity\n",
      "https://biomedit.ch/rdf/sphn-ontology/sphn#hasTumorPurity\n",
      "https://biomedit.ch/rdf/sphn-ontology/sphn#hasReferenceRange\n",
      "https://biomedit.ch/rdf/sphn-ontology/AIDAVA/hasPatient\n",
      "https://biomedit.ch/rdf/sphn-ontology/sphn#hasGenomicPosition\n"
     ]
    },
    {
     "data": {
      "text/plain": [
       "{rdflib.term.URIRef('https://biomedit.ch/rdf/sphn-ontology/sphn#AllergyEpisode'): 'https://biomedit.ch/rdf/sphn-ontology/sphn#hasManifestationDuration',\n",
       " rdflib.term.URIRef('https://biomedit.ch/rdf/sphn-ontology/sphn#BloodPressure'): 'https://biomedit.ch/rdf/sphn-ontology/sphn#hasSystolicPressure',\n",
       " rdflib.term.BNode('nc84fde7d69b142f594bdd1d7f64858eeb293'): 'https://biomedit.ch/rdf/sphn-ontology/sphn#hasDrug',\n",
       " rdflib.term.BNode('nc84fde7d69b142f594bdd1d7f64858eeb296'): 'https://biomedit.ch/rdf/sphn-ontology/sphn#hasDrugQuantity',\n",
       " rdflib.term.BNode('nc84fde7d69b142f594bdd1d7f64858eeb299'): 'https://biomedit.ch/rdf/sphn-ontology/sphn#hasDuration',\n",
       " rdflib.term.URIRef('https://biomedit.ch/rdf/sphn-ontology/sphn#RadiotherapyProcedure'): 'https://biomedit.ch/rdf/sphn-ontology/sphn#hasFractionsNumber',\n",
       " rdflib.term.URIRef('https://biomedit.ch/rdf/sphn-ontology/sphn#ElectrocardiographicProcedure'): 'https://biomedit.ch/rdf/sphn-ontology/sphn#hasNumberOfLeads',\n",
       " rdflib.term.URIRef('https://biomedit.ch/rdf/sphn-ontology/sphn#LabResult'): 'https://biomedit.ch/rdf/sphn-ontology/sphn#hasQuantitativeResult',\n",
       " rdflib.term.BNode('nc84fde7d69b142f594bdd1d7f64858eeb393'): 'https://biomedit.ch/rdf/sphn-ontology/sphn#hasQuantity',\n",
       " rdflib.term.BNode('nc84fde7d69b142f594bdd1d7f64858eeb420'): 'https://biomedit.ch/rdf/sphn-ontology/sphn#hasRadiationQuantity',\n",
       " rdflib.term.URIRef('https://biomedit.ch/rdf/sphn-ontology/sphn#TumorSpecimen'): 'https://biomedit.ch/rdf/sphn-ontology/sphn#hasTumorPurity',\n",
       " rdflib.term.BNode('nc84fde7d69b142f594bdd1d7f64858eeb432'): 'https://biomedit.ch/rdf/sphn-ontology/sphn#hasReferenceRange',\n",
       " rdflib.term.BNode('nc84fde7d69b142f594bdd1d7f64858eeb1'): 'https://biomedit.ch/rdf/sphn-ontology/AIDAVA/hasPatient',\n",
       " rdflib.term.BNode('nc84fde7d69b142f594bdd1d7f64858eeb314'): 'https://biomedit.ch/rdf/sphn-ontology/sphn#hasGenomicPosition'}"
      ]
     },
     "execution_count": 3,
     "metadata": {},
     "output_type": "execute_result"
    }
   ],
   "source": [
    "main_entity = SPHN.Measurement\n",
    "\n",
    "# Entity we have to link\n",
    "target_entity = dict()\n",
    "target_entity[SPHN.Unit] = \"\"\n",
    "\n",
    "matching_properties = dict()\n",
    "def inbound_link_search(target_entity):\n",
    "    while(True):\n",
    "\n",
    "        if target_entity == dict():\n",
    "            break\n",
    "        if len(target_entity) > 40: \n",
    "            print(\"There are more then 40 entities being looked for sooo\")\n",
    "            break \n",
    "        \n",
    "\n",
    "\n",
    "        print(\"Let's look for properties that poitn to \", target_entity)\n",
    "\n",
    "        target_predicates = set()\n",
    "\n",
    "        for obj in target_entity:\n",
    "            matched = False\n",
    "            for s, p, o in g.triples((None, RDFS.range, None)):\n",
    "            # print(s,p,o)\n",
    "                if str(o) == str(obj):\n",
    "                    matched = True\n",
    "                    print(s, p, o)\n",
    "                    target_predicates.add(str(s))\n",
    "            if not matched:\n",
    "                matching_properties[obj] = str(target_entity[obj])\n",
    "            \n",
    "\n",
    "        # Loop over all predicates and print their domain (if defined)\n",
    "        target_entity = dict()\n",
    "        for s, p, o in g.triples((None, RDFS.domain, None)):\n",
    "            \n",
    "\n",
    "            if str(s) in str(target_predicates): \n",
    "                print(f\"Property: {s} has domain: {o}\") \n",
    "                target_entity[o] = s\n",
    "\n",
    "    for key, val in matching_properties.items():\n",
    "        # print(f\"{key}: {val}\")\n",
    "        print(f\"{val}\")\n",
    "    return matching_properties\n",
    "\n",
    "inbound_link_search(target_entity)"
   ]
  },
  {
   "cell_type": "markdown",
   "id": "53c6240f",
   "metadata": {},
   "source": [
    "Asking Chat gpt has correctly given us the output that Meassurement is most likely to have hasUnit"
   ]
  },
  {
   "cell_type": "code",
   "execution_count": null,
   "id": "a5b97436",
   "metadata": {},
   "outputs": [
    {
     "name": "stdout",
     "output_type": "stream",
     "text": [
      "There are more then 40 entities being looked for sooo\n",
      "https://biomedit.ch/rdf/sphn-ontology/sphn#hasManifestationDuration\n",
      "https://biomedit.ch/rdf/sphn-ontology/sphn#hasSystolicPressure\n",
      "https://biomedit.ch/rdf/sphn-ontology/sphn#hasDrug\n",
      "https://biomedit.ch/rdf/sphn-ontology/sphn#hasDrugQuantity\n",
      "https://biomedit.ch/rdf/sphn-ontology/sphn#hasDuration\n",
      "https://biomedit.ch/rdf/sphn-ontology/sphn#hasFractionsNumber\n",
      "https://biomedit.ch/rdf/sphn-ontology/sphn#hasNumberOfLeads\n",
      "https://biomedit.ch/rdf/sphn-ontology/sphn#hasQuantitativeResult\n",
      "https://biomedit.ch/rdf/sphn-ontology/sphn#hasQuantity\n",
      "https://biomedit.ch/rdf/sphn-ontology/sphn#hasRadiationQuantity\n",
      "https://biomedit.ch/rdf/sphn-ontology/sphn#hasTumorPurity\n",
      "https://biomedit.ch/rdf/sphn-ontology/sphn#hasReferenceRange\n",
      "https://biomedit.ch/rdf/sphn-ontology/AIDAVA/hasPatient\n",
      "https://biomedit.ch/rdf/sphn-ontology/sphn#hasGenomicPosition\n"
     ]
    },
    {
     "data": {
      "text/plain": [
       "{rdflib.term.URIRef('https://biomedit.ch/rdf/sphn-ontology/sphn#AllergyEpisode'): 'https://biomedit.ch/rdf/sphn-ontology/sphn#hasManifestationDuration',\n",
       " rdflib.term.URIRef('https://biomedit.ch/rdf/sphn-ontology/sphn#BloodPressure'): 'https://biomedit.ch/rdf/sphn-ontology/sphn#hasSystolicPressure',\n",
       " rdflib.term.BNode('nc84fde7d69b142f594bdd1d7f64858eeb293'): 'https://biomedit.ch/rdf/sphn-ontology/sphn#hasDrug',\n",
       " rdflib.term.BNode('nc84fde7d69b142f594bdd1d7f64858eeb296'): 'https://biomedit.ch/rdf/sphn-ontology/sphn#hasDrugQuantity',\n",
       " rdflib.term.BNode('nc84fde7d69b142f594bdd1d7f64858eeb299'): 'https://biomedit.ch/rdf/sphn-ontology/sphn#hasDuration',\n",
       " rdflib.term.URIRef('https://biomedit.ch/rdf/sphn-ontology/sphn#RadiotherapyProcedure'): 'https://biomedit.ch/rdf/sphn-ontology/sphn#hasFractionsNumber',\n",
       " rdflib.term.URIRef('https://biomedit.ch/rdf/sphn-ontology/sphn#ElectrocardiographicProcedure'): 'https://biomedit.ch/rdf/sphn-ontology/sphn#hasNumberOfLeads',\n",
       " rdflib.term.URIRef('https://biomedit.ch/rdf/sphn-ontology/sphn#LabResult'): 'https://biomedit.ch/rdf/sphn-ontology/sphn#hasQuantitativeResult',\n",
       " rdflib.term.BNode('nc84fde7d69b142f594bdd1d7f64858eeb393'): 'https://biomedit.ch/rdf/sphn-ontology/sphn#hasQuantity',\n",
       " rdflib.term.BNode('nc84fde7d69b142f594bdd1d7f64858eeb420'): 'https://biomedit.ch/rdf/sphn-ontology/sphn#hasRadiationQuantity',\n",
       " rdflib.term.URIRef('https://biomedit.ch/rdf/sphn-ontology/sphn#TumorSpecimen'): 'https://biomedit.ch/rdf/sphn-ontology/sphn#hasTumorPurity',\n",
       " rdflib.term.BNode('nc84fde7d69b142f594bdd1d7f64858eeb432'): 'https://biomedit.ch/rdf/sphn-ontology/sphn#hasReferenceRange',\n",
       " rdflib.term.BNode('nc84fde7d69b142f594bdd1d7f64858eeb1'): 'https://biomedit.ch/rdf/sphn-ontology/AIDAVA/hasPatient',\n",
       " rdflib.term.BNode('nc84fde7d69b142f594bdd1d7f64858eeb314'): 'https://biomedit.ch/rdf/sphn-ontology/sphn#hasGenomicPosition'}"
      ]
     },
     "execution_count": 4,
     "metadata": {},
     "output_type": "execute_result"
    }
   ],
   "source": [
    "AIDAVA = Namespace(\"https://biomedit.ch/rdf/sphn-ontology/AIDAVA/\")\n",
    "inbound_link_search(AIDAVA.Patient)"
   ]
  }
 ],
 "metadata": {
  "kernelspec": {
   "display_name": ".venv",
   "language": "python",
   "name": "python3"
  },
  "language_info": {
   "codemirror_mode": {
    "name": "ipython",
    "version": 3
   },
   "file_extension": ".py",
   "mimetype": "text/x-python",
   "name": "python",
   "nbconvert_exporter": "python",
   "pygments_lexer": "ipython3",
   "version": "3.13.2"
  }
 },
 "nbformat": 4,
 "nbformat_minor": 5
}
