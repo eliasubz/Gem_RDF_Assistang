{
 "cells": [
  {
   "cell_type": "markdown",
   "id": "8fd18eef",
   "metadata": {},
   "source": [
    "## Learning how to query the Ontology instead of the defined triples\n",
    "\n",
    "Resources:<br>\n",
    "https://www.biomedit.ch/rdf/sphn-schema/sphn#Measurement <br>\n",
    "https://github.com/ensaremirerol/rdfcraft-test\n",
    "\n",
    "I made progress actually:\n",
    "1. List all properties\n",
    "2. Given a property find their ranges.\n",
    "3. Given an object return all their predicates/Given an entities find all predicates for which range it is in their range.\n",
    "4. Given a property find their Domains."
   ]
  },
  {
   "cell_type": "markdown",
   "id": "71bb8c14",
   "metadata": {},
   "source": [
    "How to successfully get all possible properties"
   ]
  },
  {
   "cell_type": "code",
   "execution_count": 52,
   "id": "8824094a",
   "metadata": {},
   "outputs": [],
   "source": [
    "from rdflib import Graph, RDF, RDFS, OWL, Namespace\n",
    "\n",
    "SPHN = Namespace(\"https://biomedit.ch/rdf/sphn-ontology/sphn#\")\n",
    "\n",
    "\n",
    "main_entity = SPHN.Measurement\n",
    "\n",
    "# Entity we have to link\n",
    "link_entity = SPHN.Unit"
   ]
  },
  {
   "cell_type": "markdown",
   "id": "98e6a012",
   "metadata": {},
   "source": [
    "### This lists all properties"
   ]
  },
  {
   "cell_type": "code",
   "execution_count": 53,
   "id": "e8db77fb",
   "metadata": {},
   "outputs": [
    {
     "name": "stdout",
     "output_type": "stream",
     "text": [
      "https://biomedit.ch/rdf/sphn-ontology/sphn#hasNotation\n",
      "https://biomedit.ch/rdf/sphn-ontology/sphn#hasOutcome\n",
      "https://biomedit.ch/rdf/sphn-ontology/sphn#hasOxygenEquipment\n",
      "https://biomedit.ch/rdf/sphn-ontology/sphn#hasNumberOfLeads\n",
      "https://biomedit.ch/rdf/sphn-ontology/sphn#hasStatusCode\n",
      "https://biomedit.ch/rdf/sphn-ontology/sphn#hasExposureRouteCode\n",
      "https://biomedit.ch/rdf/sphn-ontology/sphn#hasCoordinateConvention\n",
      "https://biomedit.ch/rdf/sphn-ontology/sphn#hasAdmissionDateTime\n",
      "https://biomedit.ch/rdf/sphn-ontology/sphn#hasAlternateAllele\n",
      "https://biomedit.ch/rdf/sphn-ontology/sphn#hasCurrentLocation\n",
      "https://biomedit.ch/rdf/sphn-ontology/sphn#hasPhysiologicState\n",
      "https://biomedit.ch/rdf/sphn-ontology/sphn#hasExact\n",
      "https://biomedit.ch/rdf/sphn-ontology/sphn#hasUnit\n",
      "https://biomedit.ch/rdf/sphn-ontology/AIDAVA/hasProcedure\n",
      "https://biomedit.ch/rdf/sphn-ontology/sphn#hasTPrefix\n",
      "https://biomedit.ch/rdf/sphn-ontology/sphn#hasMonth\n",
      "https://biomedit.ch/rdf/sphn-ontology/sphn#hasStartDateTime\n",
      "https://biomedit.ch/rdf/sphn-ontology/sphn#hasExposureDuration\n",
      "https://biomedit.ch/rdf/sphn-ontology/sphn#hasSubjectAge\n",
      "https://biomedit.ch/rdf/sphn-ontology/sphn#hasGene\n",
      "https://biomedit.ch/rdf/sphn-ontology/sphn#hasOrganism\n",
      "https://biomedit.ch/rdf/sphn-ontology/sphn#hasEnd\n",
      "https://biomedit.ch/rdf/sphn-ontology/sphn#hasActiveIngredient\n",
      "https://biomedit.ch/rdf/sphn-ontology/sphn#hasComment\n",
      "https://biomedit.ch/rdf/sphn-ontology/sphn#hasCertaintyCode\n",
      "https://biomedit.ch/rdf/sphn-ontology/sphn#hasYear\n",
      "https://biomedit.ch/rdf/sphn-ontology/sphn#hasScoringSystemCode\n",
      "https://biomedit.ch/rdf/sphn-ontology/sphn#hasProtein\n",
      "https://biomedit.ch/rdf/sphn-ontology/AIDAVA/hasAdress\n",
      "https://biomedit.ch/rdf/sphn-ontology/sphn#hasEndCytobandCode\n",
      "https://biomedit.ch/rdf/sphn-ontology/AIDAVA/hasDrugPrescription\n",
      "https://biomedit.ch/rdf/sphn-ontology/sphn#hasSystolicPressure\n",
      "https://biomedit.ch/rdf/sphn-ontology/sphn#hasFreeText\n",
      "https://biomedit.ch/rdf/sphn-ontology/sphn#hasOutput\n",
      "https://biomedit.ch/rdf/sphn-ontology/sphn#hasLaterality\n",
      "https://biomedit.ch/rdf/sphn-ontology/sphn#hasCalculationMethod\n",
      "https://biomedit.ch/rdf/sphn-ontology/AIDAVA/AIDAVADataProperties\n",
      "https://biomedit.ch/rdf/sphn-ontology/sphn#hasGeneticVariation\n",
      "https://biomedit.ch/rdf/sphn-ontology/sphn#hasAdministrativeCase\n",
      "https://biomedit.ch/rdf/sphn-ontology/sphn#hasRadiationQuantity\n",
      "https://biomedit.ch/rdf/sphn-ontology/sphn#hasRank\n",
      "https://biomedit.ch/rdf/sphn-ontology/sphn#hasReasonToStopCode\n",
      "https://biomedit.ch/rdf/sphn-ontology/sphn#hasProgressionType\n",
      "https://biomedit.ch/rdf/sphn-ontology/AIDAVA/hasDosageText\n",
      "https://biomedit.ch/rdf/sphn-ontology/sphn#hasValue\n",
      "https://biomedit.ch/rdf/sphn-ontology/sphn#hasMPrefix\n",
      "https://biomedit.ch/rdf/sphn-ontology/sphn#hasIntervention\n",
      "https://biomedit.ch/rdf/sphn-ontology/sphn#hasDeathDate\n",
      "https://biomedit.ch/rdf/sphn-ontology/sphn#hasFormatCode\n",
      "https://biomedit.ch/rdf/sphn-ontology/sphn#hasTargetLocation\n",
      "https://biomedit.ch/rdf/sphn-ontology/AIDAVA/hasSystem\n",
      "https://biomedit.ch/rdf/sphn-ontology/sphn#hasIdentifier\n",
      "https://biomedit.ch/rdf/sphn-ontology/sphn#hasName\n",
      "https://biomedit.ch/rdf/sphn-ontology/sphn#hasReactionTypeCode\n",
      "https://biomedit.ch/rdf/sphn-ontology/sphn#hasQualitativeResult\n",
      "http://purl.org/dc/elements/1.1/description\n",
      "https://biomedit.ch/rdf/sphn-ontology/sphn#hasManufacturedDoseForm\n",
      "https://biomedit.ch/rdf/sphn-ontology/AIDAVA/hasPatientIdentifier\n",
      "https://biomedit.ch/rdf/sphn-ontology/sphn#hasDataFile\n",
      "https://biomedit.ch/rdf/sphn-ontology/sphn#hasDischargeLocation\n",
      "http://www.w3.org/2002/07/owl#minCardinality\n",
      "https://biomedit.ch/rdf/sphn-ontology/AIDAVA/interprets\n",
      "http://purl.org/dc/elements/1.1/title\n",
      "https://biomedit.ch/rdf/sphn-ontology/AIDAVA/hasMeasurement\n",
      "https://biomedit.ch/rdf/sphn-ontology/sphn#hasEventDateTime\n",
      "http://www.w3.org/2004/02/skos/core#definition\n",
      "https://biomedit.ch/rdf/sphn-ontology/sphn#hasOriginLocation\n",
      "https://biomedit.ch/rdf/sphn-ontology/AIDAVA/hasSubjectName\n",
      "https://biomedit.ch/rdf/sphn-ontology/sphn#hasGenericName\n",
      "https://biomedit.ch/rdf/sphn-ontology/sphn#hasReferenceAllele\n",
      "https://biomedit.ch/rdf/sphn-ontology/AIDAVA/hasFullName\n",
      "https://biomedit.ch/rdf/sphn-ontology/sphn#hasVersion\n",
      "https://biomedit.ch/rdf/sphn-ontology/sphn#hasUniformResourceIdentifier\n",
      "https://biomedit.ch/rdf/sphn-ontology/sphn#hasSpecialtyName\n",
      "https://biomedit.ch/rdf/sphn-ontology/sphn#hasNPrefix\n",
      "https://biomedit.ch/rdf/sphn-ontology/sphn#hasAssessmentDateTime\n",
      "https://biomedit.ch/rdf/sphn-ontology/sphn#hasDrugQuantity\n",
      "https://biomedit.ch/rdf/sphn-ontology/sphn#hasTypeCode\n",
      "https://biomedit.ch/rdf/sphn-ontology/sphn#hasMeanPressure\n",
      "https://biomedit.ch/rdf/sphn-ontology/sphn#SPHNAttributeObject\n",
      "https://biomedit.ch/rdf/sphn-ontology/sphn#hasTestKit\n",
      "https://biomedit.ch/rdf/sphn-ontology/sphn#hasOnsetDateTime\n",
      "https://biomedit.ch/rdf/sphn-ontology/sphn#hasMaterialTypeCode\n",
      "https://biomedit.ch/rdf/sphn-ontology/sphn#hasTherapeuticArea\n",
      "https://biomedit.ch/rdf/sphn-ontology/sphn#hasDeterminationDateTime\n",
      "https://biomedit.ch/rdf/sphn-ontology/sphn#hasLastAdministrationDateTime\n",
      "https://biomedit.ch/rdf/sphn-ontology/sphn#hasConsequences\n",
      "https://biomedit.ch/rdf/sphn-ontology/sphn#hasDiastolicPressure\n",
      "https://biomedit.ch/rdf/sphn-ontology/sphn#hasRecordDateTime\n",
      "https://biomedit.ch/rdf/sphn-ontology/sphn#hasFixationType\n",
      "https://biomedit.ch/rdf/sphn-ontology/sphn#hasTemplateIdentifier\n",
      "https://biomedit.ch/rdf/sphn-ontology/sphn#hasManifestationSeverityCode\n",
      "https://biomedit.ch/rdf/sphn-ontology/sphn#hasMeasurementMethod\n",
      "https://biomedit.ch/rdf/sphn-ontology/sphn#hasProgressionBodySite\n",
      "https://biomedit.ch/rdf/sphn-ontology/sphn#hasNSuffix\n",
      "https://biomedit.ch/rdf/sphn-ontology/AIDAVA/hasCategory\n",
      "https://biomedit.ch/rdf/sphn-ontology/AIDAVA/hasBirthDateTime\n",
      "https://biomedit.ch/rdf/sphn-ontology/sphn#hasExposureDateTime\n",
      "https://biomedit.ch/rdf/sphn-ontology/sphn#hasScoringSystem\n",
      "http://www.w3.org/2002/07/owl#deprecated\n",
      "https://biomedit.ch/rdf/sphn-ontology/sphn#hasManifestationDateTime\n",
      "https://biomedit.ch/rdf/sphn-ontology/sphn#hasFractionsNumber\n",
      "https://biomedit.ch/rdf/sphn-ontology/sphn#hasStart\n",
      "https://biomedit.ch/rdf/sphn-ontology/sphn#hasMeasurementDateTime\n",
      "https://biomedit.ch/rdf/sphn-ontology/sphn#hasChromosome\n",
      "https://biomedit.ch/rdf/sphn-ontology/sphn#hasQuantitativeResult\n",
      "https://biomedit.ch/rdf/sphn-ontology/sphn#hasMethod\n",
      "https://biomedit.ch/rdf/sphn-ontology/sphn#hasEndDateTime\n",
      "https://biomedit.ch/rdf/sphn-ontology/sphn#hasExtractionDateTime\n",
      "https://biomedit.ch/rdf/sphn-ontology/sphn#hasTimePattern\n",
      "https://biomedit.ch/rdf/sphn-ontology/sphn#hasUpperLimit\n",
      "http://www.w3.org/2004/02/skos/core#scopeNote\n",
      "https://biomedit.ch/rdf/sphn-ontology/sphn#hasAllergen\n",
      "https://biomedit.ch/rdf/sphn-ontology/sphn#hasCode\n",
      "https://biomedit.ch/rdf/sphn-ontology/sphn#hasInactiveIngredient\n",
      "https://biomedit.ch/rdf/sphn-ontology/sphn#hasInsertionPoint\n",
      "https://biomedit.ch/rdf/sphn-ontology/sphn#hasManifestationBodySite\n",
      "https://biomedit.ch/rdf/sphn-ontology/sphn#hasDischargeDateTime\n",
      "https://biomedit.ch/rdf/sphn-ontology/sphn#hasMedicalDevice\n",
      "https://biomedit.ch/rdf/sphn-ontology/sphn#hasDataProviderInstitute\n",
      "https://biomedit.ch/rdf/sphn-ontology/AIDAVA/hasPatient\n",
      "https://biomedit.ch/rdf/sphn-ontology/AIDAVA/AIDAVAobjectproperties\n",
      "https://biomedit.ch/rdf/sphn-ontology/sphn#hasDuration\n",
      "https://biomedit.ch/rdf/sphn-ontology/AIDAVA/hasBirthDate\n",
      "https://biomedit.ch/rdf/sphn-ontology/sphn#hasProductCode\n",
      "https://biomedit.ch/rdf/sphn-ontology/sphn#hasBiobankName\n",
      "https://biomedit.ch/rdf/sphn-ontology/sphn#hasOxygenFlowRate\n",
      "https://biomedit.ch/rdf/sphn-ontology/sphn#hasTime\n",
      "https://biomedit.ch/rdf/sphn-ontology/sphn#hasTumorPurity\n",
      "https://biomedit.ch/rdf/sphn-ontology/sphn#hasCareHandling\n",
      "https://biomedit.ch/rdf/sphn-ontology/sphn#hasStartCytobandCode\n",
      "https://biomedit.ch/rdf/sphn-ontology/sphn#hasCodingSystemAndVersion\n",
      "https://biomedit.ch/rdf/sphn-ontology/sphn#hasTopographyCode\n",
      "https://biomedit.ch/rdf/sphn-ontology/sphn#hasDataDetermination\n",
      "https://biomedit.ch/rdf/sphn-ontology/sphn#SPHNAttributeDatatype\n",
      "https://biomedit.ch/rdf/sphn-ontology/sphn#hasCollectionDateTime\n",
      "https://biomedit.ch/rdf/sphn-ontology/sphn#replaces\n",
      "https://biomedit.ch/rdf/sphn-ontology/AIDAVA/hasFamilyName\n",
      "http://purl.org/dc/terms/license\n",
      "https://biomedit.ch/rdf/sphn-ontology/sphn#hasTranscript\n",
      "https://biomedit.ch/rdf/sphn-ontology/AIDAVA/hasGivenName\n",
      "https://biomedit.ch/rdf/sphn-ontology/sphn#hasLowerLimit\n",
      "https://biomedit.ch/rdf/sphn-ontology/sphn#hasQualitativeResultCode\n",
      "https://biomedit.ch/rdf/sphn-ontology/sphn#hasMSuffix\n",
      "https://biomedit.ch/rdf/sphn-ontology/AIDAVA/hasConditionCode\n",
      "https://biomedit.ch/rdf/sphn-ontology/sphn#hasManifestationDuration\n",
      "https://biomedit.ch/rdf/sphn-ontology/sphn#hasSubjectPseudoIdentifier\n",
      "https://biomedit.ch/rdf/sphn-ontology/sphn#hasLastReactionDateTime\n",
      "http://www.w3.org/2002/07/owl#maxCardinality\n",
      "https://biomedit.ch/rdf/sphn-ontology/sphn#hasReferenceRange\n",
      "https://biomedit.ch/rdf/sphn-ontology/sphn#hasLocation\n",
      "https://biomedit.ch/rdf/sphn-ontology/sphn#hasBodySite\n",
      "https://biomedit.ch/rdf/sphn-ontology/sphn#hasFrequency\n",
      "https://biomedit.ch/rdf/sphn-ontology/sphn#hasAlleleOriginCode\n",
      "https://biomedit.ch/rdf/sphn-ontology/sphn#hasTSuffix\n",
      "https://biomedit.ch/rdf/sphn-ontology/sphn#hasComparator\n",
      "https://biomedit.ch/rdf/sphn-ontology/sphn#hasManifestationCode\n",
      "https://biomedit.ch/rdf/sphn-ontology/sphn#hasReference\n",
      "https://biomedit.ch/rdf/sphn-ontology/sphn#hasMorphologyCode\n",
      "https://biomedit.ch/rdf/sphn-ontology/sphn#hasPrimaryContainer\n",
      "https://biomedit.ch/rdf/sphn-ontology/sphn#hasFirstRecordDateTime\n",
      "https://biomedit.ch/rdf/sphn-ontology/sphn#hasDateTime\n",
      "https://biomedit.ch/rdf/sphn-ontology/sphn#hasResult\n",
      "https://biomedit.ch/rdf/sphn-ontology/sphn#hasRegularityCode\n",
      "https://biomedit.ch/rdf/sphn-ontology/AIDAVA/hasAdministrativeGender\n",
      "https://biomedit.ch/rdf/sphn-ontology/sphn#hasDrug\n",
      "https://biomedit.ch/rdf/sphn-ontology/AIDAVA/usingSubstance\n",
      "https://biomedit.ch/rdf/sphn-ontology/sphn#hasIntent\n",
      "https://biomedit.ch/rdf/sphn-ontology/sphn#hasMethodCode\n",
      "https://biomedit.ch/rdf/sphn-ontology/sphn#hasQuantity\n",
      "https://biomedit.ch/rdf/sphn-ontology/sphn#hasVerificationStatusCode\n",
      "https://biomedit.ch/rdf/sphn-ontology/sphn#hasSeverityCode\n",
      "https://biomedit.ch/rdf/sphn-ontology/sphn#hasIndicationToStart\n",
      "https://biomedit.ch/rdf/sphn-ontology/sphn#hasCriteria\n",
      "https://biomedit.ch/rdf/sphn-ontology/sphn#hasSample\n",
      "https://biomedit.ch/rdf/sphn-ontology/AIDAVA/hasProblemCondition\n",
      "https://biomedit.ch/rdf/sphn-ontology/sphn#hasDay\n",
      "https://biomedit.ch/rdf/sphn-ontology/sphn#hasZygosityCode\n",
      "https://biomedit.ch/rdf/sphn-ontology/sphn#hasReportDateTime\n",
      "https://biomedit.ch/rdf/sphn-ontology/sphn#hasCodingDateTime\n",
      "http://www.w3.org/2004/02/skos/core#note\n",
      "https://biomedit.ch/rdf/sphn-ontology/sphn#hasFirstAdministrationDateTime\n",
      "https://biomedit.ch/rdf/sphn-ontology/sphn#hasGenomicPosition\n",
      "https://biomedit.ch/rdf/sphn-ontology/sphn#hasInstrument\n",
      "https://biomedit.ch/rdf/sphn-ontology/AIDAVA/hasDrugAdministrationEvent\n",
      "https://biomedit.ch/rdf/sphn-ontology/sphn#hasChromosomalLocation\n",
      "https://biomedit.ch/rdf/sphn-ontology/sphn#hasRestingPoint\n",
      "https://biomedit.ch/rdf/sphn-ontology/sphn#hasRelativeTemporalityCode\n",
      "https://biomedit.ch/rdf/sphn-ontology/sphn#hasLabTest\n",
      "https://biomedit.ch/rdf/sphn-ontology/sphn#hasAdministrationRouteCode\n"
     ]
    }
   ],
   "source": [
    "# Create a graph\n",
    "g = Graph()\n",
    "\n",
    "# Load your ontology (replace 'your_file.ttl' with your actual file path)\n",
    "g.parse(\"aidava-sphn.ttl\", format=\"turtle\")\n",
    "property_types = [\n",
    "    RDF.Property,\n",
    "    OWL.ObjectProperty,\n",
    "    OWL.DatatypeProperty,\n",
    "    OWL.AnnotationProperty,\n",
    "    SPHN.Unit,\n",
    "]\n",
    "\n",
    "# Collect defined predicates\n",
    "defined_properties = set()\n",
    "\n",
    "for ptype in property_types:\n",
    "    for s in g.subjects(RDF.type, ptype):\n",
    "        defined_properties.add(s)\n",
    "\n",
    "# Print all unique predicates\n",
    "for pred in defined_properties:\n",
    "    print(pred)\n"
   ]
  },
  {
   "cell_type": "markdown",
   "id": "7602e254",
   "metadata": {},
   "source": [
    "### With this code I can get the ranges of properties. \n",
    "This search will be used for the outbound/inside-out search. <br>\n",
    "Given a predicate I can see all the nodes that are their subjects in the SPHN ontology."
   ]
  },
  {
   "cell_type": "code",
   "execution_count": 54,
   "id": "1de25289",
   "metadata": {},
   "outputs": [
    {
     "name": "stdout",
     "output_type": "stream",
     "text": [
      "https://biomedit.ch/rdf/sphn-ontology/sphn#hasUnit http://www.w3.org/2000/01/rdf-schema#range https://biomedit.ch/rdf/sphn-ontology/sphn#Unit\n",
      "https://biomedit.ch/rdf/sphn-ontology/sphn#hasValue http://www.w3.org/2000/01/rdf-schema#range ne98de1d32f0141feb17de82c80683e77b705\n"
     ]
    }
   ],
   "source": [
    "properties = [\"https://biomedit.ch/rdf/sphn-ontology/sphn#hasUnit\", \"https://biomedit.ch/rdf/sphn-ontology/sphn#hasValue\"]\n",
    "for s, p, o in g.triples((None, RDFS.range, None)):\n",
    "    \n",
    "    if str(s) in properties:\n",
    "        print(s, p, o)\n"
   ]
  },
  {
   "cell_type": "markdown",
   "id": "9ffe1bd8",
   "metadata": {},
   "source": [
    "### How to find properties given the objects YEHAWW\n",
    "Inbound/Outside-in search. <br>\n",
    "Here I look for all predicates that Unit has."
   ]
  },
  {
   "cell_type": "code",
   "execution_count": 55,
   "id": "d90d2fa8",
   "metadata": {},
   "outputs": [
    {
     "name": "stdout",
     "output_type": "stream",
     "text": [
      "https://biomedit.ch/rdf/sphn-ontology/sphn#hasUnit http://www.w3.org/2000/01/rdf-schema#range https://biomedit.ch/rdf/sphn-ontology/sphn#Unit\n"
     ]
    }
   ],
   "source": [
    "# Target range\n",
    "target_range = SPHN.Unit\n",
    "objects = [SPHN.Unit]\n",
    "# Collect matching properties\n",
    "matching_properties = set()\n",
    "\n",
    "for s, p, o in g.triples((None, RDFS.range, None)):\n",
    "    # print(s,p,o)\n",
    "    if str(o) in str(objects) or str(s) in str(objects):\n",
    "        print(s, p, o)\n",
    "    \n",
    "\n",
    "# Print the properties\n",
    "for prop in matching_properties:\n",
    "    print(prop)\n"
   ]
  },
  {
   "cell_type": "markdown",
   "id": "6ceba5c6",
   "metadata": {},
   "source": [
    "### How to get the Domain of a property\n",
    "I get the Domain of hasUnit. We got from Unit<--hasUnit<--Quantity"
   ]
  },
  {
   "cell_type": "code",
   "execution_count": null,
   "id": "8a6c3265",
   "metadata": {},
   "outputs": [
    {
     "name": "stdout",
     "output_type": "stream",
     "text": [
      "Property: https://biomedit.ch/rdf/sphn-ontology/sphn#hasUnit has domain: https://biomedit.ch/rdf/sphn-ontology/sphn#Quantity\n"
     ]
    }
   ],
   "source": [
    "target_property = SPHN.hasUnit\n",
    "# Loop over all predicates and print their domain (if defined)\n",
    "for s, p, o in g.triples((None, RDFS.domain, None)):\n",
    "    if str(s) == str(target_property): \n",
    "        print(f\"Property: {s} has domain: {o}\") "
   ]
  },
  {
   "cell_type": "markdown",
   "id": "71a900d9",
   "metadata": {},
   "source": [
    "### Now we can reuse code to find a property that has Quantity in its range"
   ]
  },
  {
   "cell_type": "code",
   "execution_count": 57,
   "id": "04f8d6f7",
   "metadata": {},
   "outputs": [
    {
     "name": "stdout",
     "output_type": "stream",
     "text": [
      "https://biomedit.ch/rdf/sphn-ontology/sphn#hasDiastolicPressure http://www.w3.org/2000/01/rdf-schema#range https://biomedit.ch/rdf/sphn-ontology/sphn#Quantity\n",
      "https://biomedit.ch/rdf/sphn-ontology/sphn#hasDrugQuantity http://www.w3.org/2000/01/rdf-schema#range https://biomedit.ch/rdf/sphn-ontology/sphn#Quantity\n",
      "https://biomedit.ch/rdf/sphn-ontology/sphn#hasDuration http://www.w3.org/2000/01/rdf-schema#range https://biomedit.ch/rdf/sphn-ontology/sphn#Quantity\n",
      "https://biomedit.ch/rdf/sphn-ontology/sphn#hasExposureDuration http://www.w3.org/2000/01/rdf-schema#range https://biomedit.ch/rdf/sphn-ontology/sphn#Quantity\n",
      "https://biomedit.ch/rdf/sphn-ontology/sphn#hasFractionsNumber http://www.w3.org/2000/01/rdf-schema#range https://biomedit.ch/rdf/sphn-ontology/sphn#Quantity\n",
      "https://biomedit.ch/rdf/sphn-ontology/sphn#hasFrequency http://www.w3.org/2000/01/rdf-schema#range https://biomedit.ch/rdf/sphn-ontology/sphn#Quantity\n",
      "https://biomedit.ch/rdf/sphn-ontology/sphn#hasLowerLimit http://www.w3.org/2000/01/rdf-schema#range https://biomedit.ch/rdf/sphn-ontology/sphn#Quantity\n",
      "https://biomedit.ch/rdf/sphn-ontology/sphn#hasManifestationDuration http://www.w3.org/2000/01/rdf-schema#range https://biomedit.ch/rdf/sphn-ontology/sphn#Quantity\n",
      "https://biomedit.ch/rdf/sphn-ontology/sphn#hasMeanPressure http://www.w3.org/2000/01/rdf-schema#range https://biomedit.ch/rdf/sphn-ontology/sphn#Quantity\n",
      "https://biomedit.ch/rdf/sphn-ontology/sphn#hasNumberOfLeads http://www.w3.org/2000/01/rdf-schema#range https://biomedit.ch/rdf/sphn-ontology/sphn#Quantity\n",
      "https://biomedit.ch/rdf/sphn-ontology/sphn#hasQuantitativeResult http://www.w3.org/2000/01/rdf-schema#range https://biomedit.ch/rdf/sphn-ontology/sphn#Quantity\n",
      "https://biomedit.ch/rdf/sphn-ontology/sphn#hasQuantity http://www.w3.org/2000/01/rdf-schema#range https://biomedit.ch/rdf/sphn-ontology/sphn#Quantity\n",
      "https://biomedit.ch/rdf/sphn-ontology/sphn#hasRadiationQuantity http://www.w3.org/2000/01/rdf-schema#range https://biomedit.ch/rdf/sphn-ontology/sphn#Quantity\n",
      "https://biomedit.ch/rdf/sphn-ontology/sphn#hasSystolicPressure http://www.w3.org/2000/01/rdf-schema#range https://biomedit.ch/rdf/sphn-ontology/sphn#Quantity\n",
      "https://biomedit.ch/rdf/sphn-ontology/sphn#hasTumorPurity http://www.w3.org/2000/01/rdf-schema#range https://biomedit.ch/rdf/sphn-ontology/sphn#Quantity\n",
      "https://biomedit.ch/rdf/sphn-ontology/sphn#hasUpperLimit http://www.w3.org/2000/01/rdf-schema#range https://biomedit.ch/rdf/sphn-ontology/sphn#Quantity\n"
     ]
    }
   ],
   "source": [
    "# Target range\n",
    "target_range = SPHN.Quantity\n",
    "objects = [SPHN.Quantity]\n",
    "# Collect matching properties\n",
    "matching_properties = set()\n",
    "\n",
    "for s, p, o in g.triples((None, RDFS.range, None)):\n",
    "    # print(s,p,o)\n",
    "    if str(o) in str(objects) or str(s) in str(objects):\n",
    "        print(s, p, o)\n",
    "    \n",
    "\n",
    "# Print the properties\n",
    "for prop in matching_properties:\n",
    "    print(prop)"
   ]
  },
  {
   "cell_type": "markdown",
   "id": "9a2aa842",
   "metadata": {},
   "source": [
    "### This is the first part were the LLM could come into play"
   ]
  },
  {
   "cell_type": "code",
   "execution_count": null,
   "id": "426d0d79",
   "metadata": {},
   "outputs": [],
   "source": [
    "# LLM picking hasQuantity"
   ]
  },
  {
   "cell_type": "markdown",
   "id": "38d59834",
   "metadata": {},
   "source": [
    "\"hasQuantity\" is the most fitting one but it doesnt have #Measurements in its domain"
   ]
  },
  {
   "cell_type": "code",
   "execution_count": 63,
   "id": "59468893",
   "metadata": {},
   "outputs": [
    {
     "name": "stdout",
     "output_type": "stream",
     "text": [
      "Property: https://biomedit.ch/rdf/sphn-ontology/sphn#hasQuantity has domain: ne98de1d32f0141feb17de82c80683e77b393\n"
     ]
    }
   ],
   "source": [
    "target_property = SPHN.hasQuantity\n",
    "\n",
    "# Loop over all predicates and print their domain (if defined)\n",
    "for s, p, o in g.triples((None, RDFS.domain, None)):\n",
    "    if str(s) == str(target_property): \n",
    "        print(f\"Property: {s} has domain: {o}\") "
   ]
  },
  {
   "cell_type": "markdown",
   "id": "5958c1a4",
   "metadata": {},
   "source": [
    "Checking if SPHN.Measurement has the right type"
   ]
  },
  {
   "cell_type": "code",
   "execution_count": 66,
   "id": "8f20ffab",
   "metadata": {},
   "outputs": [
    {
     "name": "stdout",
     "output_type": "stream",
     "text": [
      "https://biomedit.ch/rdf/sphn-ontology/sphn#Measurement http://www.w3.org/1999/02/22-rdf-syntax-ns#type http://www.w3.org/2002/07/owl#Class\n"
     ]
    }
   ],
   "source": [
    "for s, p, o in g.triples((None, RDF.type, None)):\n",
    "    if str(s) == str(main_entity):\n",
    "        print(s, p, o)"
   ]
  },
  {
   "cell_type": "markdown",
   "id": "aa03225d",
   "metadata": {},
   "source": [
    " Another issue that is blocking me is that the second thing value doesnt have a class that it could be mapped to. "
   ]
  }
 ],
 "metadata": {
  "kernelspec": {
   "display_name": ".venv",
   "language": "python",
   "name": "python3"
  },
  "language_info": {
   "codemirror_mode": {
    "name": "ipython",
    "version": 3
   },
   "file_extension": ".py",
   "mimetype": "text/x-python",
   "name": "python",
   "nbconvert_exporter": "python",
   "pygments_lexer": "ipython3",
   "version": "3.13.2"
  }
 },
 "nbformat": 4,
 "nbformat_minor": 5
}
