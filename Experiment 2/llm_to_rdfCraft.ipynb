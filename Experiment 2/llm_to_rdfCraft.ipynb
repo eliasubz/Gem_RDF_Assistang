{
 "cells": [
  {
   "cell_type": "code",
   "execution_count": null,
   "id": "987cf268",
   "metadata": {},
   "outputs": [],
   "source": [
    "Converting paths into rdf_Craft readable format for Yarrml and rdml conversion"
   ]
  },
  {
   "cell_type": "code",
   "execution_count": null,
   "id": "56e7fa4b",
   "metadata": {},
   "outputs": [],
   "source": []
  }
 ],
 "metadata": {
  "language_info": {
   "name": "python"
  }
 },
 "nbformat": 4,
 "nbformat_minor": 5
}
